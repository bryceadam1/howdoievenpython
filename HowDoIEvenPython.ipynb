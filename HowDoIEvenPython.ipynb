{
 "cells": [
  {
   "cell_type": "markdown",
   "metadata": {},
   "source": [
    "<h1 align=\"center\">How do I even Python?</h1>\n",
    "<a align=\"left\" href=\"https://colab.research.google.com/github/bryceadam1/howdoievenpython/blob/master/HowDoIEvenPython.ipynb\">\n",
    "  <img src=\"https://colab.research.google.com/assets/colab-badge.svg\" alt=\"Open In Colab\"/>\n",
    "</a>"
   ]
  },
  {
   "cell_type": "markdown",
   "metadata": {},
   "source": [
    "Welcome to *How do I even Python?*, a short reference for basic Python tasks that you will need to complete labs for BYU's Math 215 course. Just click on a section or look for a frequently asked question in the list below, and the section that is linked will tell you about it. The sections are ordered by concept from simplest to hardest, and each section will let you know if you need to understand something else first.\n",
    "\n",
    "\n",
    "This notebook is to help you learn how to use the Python programming language, and assumes you have an understanding (or are gaining an understanding) of basic linear algebra. Those concepts will not be covered.\n",
    "\n",
    "\n",
    "This notebook is best used when you play around with the code cells and try to complete the challenge tasks in each section. If you can complete all of the challenge questions, you will be well-equipped to handle any of the problems that you will need to solve in this course and beyond.\n",
    "\n",
    "> *Note: If you're having problems running cells, try restarting the kernel or runtime (the thing that runs Python)*"
   ]
  },
  {
   "cell_type": "markdown",
   "metadata": {},
   "source": [
    "<a name=\"contents\"></a>\n",
    "## Contents"
   ]
  },
  {
   "cell_type": "markdown",
   "metadata": {},
   "source": [
    "1. [Expressions](#expressions)\n",
    "2. [Variables](#variables)\n",
    "3. [Types](#types)\n",
    "4. [Lists and Objects](#lists-and-objects) (Coming Soon...)\n",
    "5. [Functions](#functions) (Coming Soon...)\n",
    "100. [Common Errors](#common-errors) (Coming Soon...)"
   ]
  },
  {
   "cell_type": "markdown",
   "metadata": {},
   "source": [
    "## Frequently Asked Questions\n",
    "- *How do I actually do something?*\n",
    "    - [Expressions](#expressions)\n",
    "- *How do I do some math?*\n",
    "    - [Expressions](#expressions)\n",
    "- *What is a variable and how do I make one?*\n",
    "    - [Variables](#variables)\n",
    "- *How do I handle `TypeError`s?*\n",
    "    - [Types](#types)\n",
    "- *What are types? Why am I getting unexpected output?*\n",
    "    - [Types](#types)"
   ]
  },
  {
   "cell_type": "markdown",
   "metadata": {},
   "source": [
    "<a name=\"expressions\"></a>\n",
    "# Expressions\n",
    "<sub><sup>Back to [Contents](#contents)</sup></sub>"
   ]
  },
  {
   "cell_type": "markdown",
   "metadata": {},
   "source": [
    "An expression in Python can be thought of as a simple command telling Python to do something. For example, you might want Python to do some math:"
   ]
  },
  {
   "cell_type": "code",
   "execution_count": null,
   "metadata": {},
   "outputs": [],
   "source": [
    "3 + 5 * 2"
   ]
  },
  {
   "cell_type": "code",
   "execution_count": null,
   "metadata": {},
   "outputs": [],
   "source": [
    "(6+4)/5"
   ]
  },
  {
   "cell_type": "code",
   "execution_count": null,
   "metadata": {},
   "outputs": [],
   "source": [
    "3**2 + 4**2"
   ]
  },
  {
   "cell_type": "markdown",
   "metadata": {},
   "source": [
    "> *Note: In Python, we use two asterisks to denote raising to the power of. The above expression is $3^2 + 4^2$*"
   ]
  },
  {
   "cell_type": "markdown",
   "metadata": {},
   "source": [
    "Or, we may want to tell python to call (run) a function, like printing a message out to the output."
   ]
  },
  {
   "cell_type": "code",
   "execution_count": null,
   "metadata": {},
   "outputs": [],
   "source": [
    "print(\"Hello world!\")"
   ]
  },
  {
   "cell_type": "markdown",
   "metadata": {},
   "source": [
    "> *Note: `print()` is an example of a function in Python. Functions can do all kinds of things, ranging from as simple as printing to the output to as complicated as facial recognition. Check out [Functions](#functions) to learn about how to use built-in functions and how to make your own.*"
   ]
  },
  {
   "cell_type": "markdown",
   "metadata": {},
   "source": [
    "> **Warning: While `print()` does write things to the output console, it `return`s `None`, meaning it doesn't do anything functionally useful in your code. Usually, you will want to `return` instead of `print()` your output. See [Functions](#functions) and [Types](#types) for more details.**"
   ]
  },
  {
   "cell_type": "markdown",
   "metadata": {},
   "source": [
    "Or, we may want to do some combination of all of these things"
   ]
  },
  {
   "cell_type": "code",
   "execution_count": null,
   "metadata": {},
   "outputs": [],
   "source": [
    "print(\"The answer is: \", 3+3*(1+2**2))"
   ]
  },
  {
   "cell_type": "markdown",
   "metadata": {},
   "source": [
    "Expressions are the basic building blocks of a program. By stringing several expressions together, you will be able to build sophisticated programs.\n",
    "\n",
    "> Tips:  \n",
    "1. Remember the order of operations PEMDAS. Python follows it as well. When in doubt, use parentheses.  \n",
    "2. Multiplication is done by using `*`. Often, people forget and do something like `3(1+2)` instead of `3*(1+2)`. This will give you an error saying that `int object is not callable`."
   ]
  },
  {
   "cell_type": "markdown",
   "metadata": {},
   "source": [
    "## Challenge\n",
    "1. Make an expression to calculate the result of this mathematical expression $\\frac{3^2 + 4^2}{3(1 + 1)-1}$\n",
    "2. Print your name (or the name of your crush) to the output."
   ]
  },
  {
   "cell_type": "code",
   "execution_count": null,
   "metadata": {},
   "outputs": [],
   "source": [
    "# FYI comments can be made with #. Python skips over whatever comes behind the #\n",
    "# Practice yourself"
   ]
  },
  {
   "cell_type": "markdown",
   "metadata": {},
   "source": [
    "<a name=\"variables\"></a>\n",
    "# Variables\n",
    "*Requires [Expressions](#expressions)*\n",
    "\n",
    "<sub><sup>Back to [Contents](#contents)</sup></sub>"
   ]
  },
  {
   "cell_type": "markdown",
   "metadata": {},
   "source": [
    "Often, we want to store some information to work with later. Other times, we want to write an expression that will work with whatever values we want to give it. After all, if Python were just a calculator, we'd just skip the hassle and use our TI-84s. The solution is to use variables."
   ]
  },
  {
   "cell_type": "markdown",
   "metadata": {},
   "source": [
    "A variable can be created with the following syntax:"
   ]
  },
  {
   "cell_type": "code",
   "execution_count": null,
   "metadata": {},
   "outputs": [],
   "source": [
    "a = 8"
   ]
  },
  {
   "cell_type": "code",
   "execution_count": null,
   "metadata": {},
   "outputs": [],
   "source": [
    "my_name = \"Bryce\""
   ]
  },
  {
   "cell_type": "markdown",
   "metadata": {},
   "source": [
    "> *Note: Variables in python are more like boxes with labels on them than they are like mathematical variables. To illustrate, in math we write: $x=3$, read \"$x$ is 3\". But in Python when we write `x = 3`, we read \"store 3 inside of `x`\". Later, we may write, just as correctly, `x = 5`, which says \"Now, forget about whatever used to be in `x` and store 5 in there.\" Contrast this to if we were to later say $x = 5$ in math. We would then be able to simplify to $3=5$, obviously a false statement! Much of the time, it won't matter if you don't understand this distiction. However, this subtle difference in understanding will help you solve weird bugs that can sometimes show up, as well as optimize your code.*"
   ]
  },
  {
   "cell_type": "markdown",
   "metadata": {},
   "source": [
    "What we did above is called *assignment*. You can You can even assign expressions to a variable. If you do that, Python will evaluate the expression before storing the answer in the variable."
   ]
  },
  {
   "cell_type": "code",
   "execution_count": null,
   "metadata": {},
   "outputs": [],
   "source": [
    "the_answer = 3 + 5\n",
    "print(the_answer)"
   ]
  },
  {
   "cell_type": "markdown",
   "metadata": {},
   "source": [
    "In addition, you can use other variables to create new variables. Try playing around with the code below and testing different values of `a` to see what happens to `b`."
   ]
  },
  {
   "cell_type": "code",
   "execution_count": null,
   "metadata": {},
   "outputs": [],
   "source": [
    "a = 2\n",
    "b = a + 3\n",
    "print(b)"
   ]
  },
  {
   "cell_type": "markdown",
   "metadata": {},
   "source": [
    "Hopefully, you can see how this can be very powerful. To illustrate, run the bottom cell below several times after running the top cell once."
   ]
  },
  {
   "cell_type": "code",
   "execution_count": null,
   "metadata": {},
   "outputs": [],
   "source": [
    "x = 1"
   ]
  },
  {
   "cell_type": "code",
   "execution_count": null,
   "metadata": {},
   "outputs": [],
   "source": [
    "x = x + 1\n",
    "print(x)"
   ]
  },
  {
   "cell_type": "markdown",
   "metadata": {},
   "source": [
    "> *Note: Again, Python variables are different from mathematical variables. See the note above.*"
   ]
  },
  {
   "cell_type": "markdown",
   "metadata": {},
   "source": [
    "Nice! You might even want to ditch your old calculator and use Python from now on! (I did)\n",
    "\n",
    "One last thing to note, you can assign multiple variables at the same time by using a comma. It works exactly the same, the expressions on the right are evaluated, and their values are stored inside the variables on the left."
   ]
  },
  {
   "cell_type": "code",
   "execution_count": null,
   "metadata": {},
   "outputs": [],
   "source": [
    "x, y = 3, 4\n",
    "\n",
    "print(x)\n",
    "print(y)"
   ]
  },
  {
   "cell_type": "markdown",
   "metadata": {},
   "source": [
    "This can be exploited to make a statement which will generate the fibonnaci sequence $1, 1, 2, 3, 5, 8, 13, 21, \\dots$. Run the bottom cell a few times after running the top one."
   ]
  },
  {
   "cell_type": "code",
   "execution_count": null,
   "metadata": {},
   "outputs": [],
   "source": [
    "fib1, fib2 = 0,1"
   ]
  },
  {
   "cell_type": "code",
   "execution_count": null,
   "metadata": {},
   "outputs": [],
   "source": [
    "fib1, fib2 = fib2, fib1 + fib2\n",
    "print(fib1)"
   ]
  },
  {
   "cell_type": "markdown",
   "metadata": {},
   "source": [
    "> Tips:\n",
    "1. Don't forget that assignment is always done to the variable on the left. For example, doing something like `x + 1 = y` will give you an error, and `x = y` will store the value of `y` inside of `x`. It can be a very difficult bug to track down if you meant to store `x` inside of `y`!"
   ]
  },
  {
   "cell_type": "markdown",
   "metadata": {},
   "source": [
    "## Challenge\n",
    "1. Store a message inside of a variable\n",
    "2. Swap the values of two variables in one line and in multiple lines (you might need a third variable).\n",
    "2. Try to generate the fibonacci sequence in reverse! (Find the negative fibonacci numbers)"
   ]
  },
  {
   "cell_type": "code",
   "execution_count": null,
   "metadata": {},
   "outputs": [],
   "source": [
    "# Practice yourself"
   ]
  },
  {
   "cell_type": "markdown",
   "metadata": {},
   "source": [
    "<a name=\"types\"></a>\n",
    "# Types\n",
    "*Requires [Variables](#variables)*\n",
    "\n",
    "<sub><sup>Back to [Contents](#contents)</sup></sub>"
   ]
  },
  {
   "cell_type": "markdown",
   "metadata": {},
   "source": [
    "You may have noticed (or felt) like there is some kind of a distinction between when you do something like:"
   ]
  },
  {
   "cell_type": "code",
   "execution_count": null,
   "metadata": {},
   "outputs": [],
   "source": [
    "my_var = 3"
   ]
  },
  {
   "cell_type": "markdown",
   "metadata": {},
   "source": [
    "and when you do something like:"
   ]
  },
  {
   "cell_type": "code",
   "execution_count": null,
   "metadata": {},
   "outputs": [],
   "source": [
    "my_var = \"Hello!\""
   ]
  },
  {
   "cell_type": "markdown",
   "metadata": {},
   "source": [
    "After all, in one of them, you're working with a number, something that you can add, subtract, divide, multiply, etc. and in the other one, you're working with some text! How do you multiply two text phrases together? This might seem inconsequential at first, but understanding types will help you debug a whole host of issues and understand what's going on in your code. To illustrate why this is important, run the following cell."
   ]
  },
  {
   "cell_type": "code",
   "execution_count": null,
   "metadata": {},
   "outputs": [],
   "source": [
    "my_num = \"3\"\n",
    "print(my_num + my_num)"
   ]
  },
  {
   "cell_type": "markdown",
   "metadata": {},
   "source": [
    "Did you get what you were expecting?\n",
    "\n",
    "Let's try to understand what's going on.\n",
    "\n",
    "Python has 4 basic types `int` (short for integer), `float` (short for floating point number, or a decimal number), `str` (short for string of characters, or text), and `bool` (short for boolean, a true or false value). Python has other types as well, including `NoneType`, `List`, `dict`, and many more (See [Lists and Objects](#lists-and-objects)). You can even create your own types, though that is outside the scope of this course."
   ]
  },
  {
   "cell_type": "code",
   "execution_count": null,
   "metadata": {},
   "outputs": [],
   "source": [
    "my_int = 5 # An int\n",
    "my_float = 3.14 # A float\n",
    "my_str = \"Somebody once told me the world was gonna roll me, I aint...\" # A string\n",
    "my_bool = True # A boolean"
   ]
  },
  {
   "cell_type": "markdown",
   "metadata": {},
   "source": [
    "Before working with variables, it is important to know what their type is. The type determines what you can do with the variable. Let's try subtracting a string from a string."
   ]
  },
  {
   "cell_type": "code",
   "execution_count": null,
   "metadata": {},
   "outputs": [],
   "source": [
    "my_str - my_str"
   ]
  },
  {
   "cell_type": "markdown",
   "metadata": {},
   "source": [
    "We get an error as expected. What does it even mean to subtract a string from a string? I don't know, and Python doesn't know either, so we get a `TypeError`. Does it make sense what the error message is saying? It is telling you that it doesn't know how to handle `-` when you have `str` on both sides of the operator. With this in mind, you might realize that you accidentally used the wrong variable names and actually meant to write:"
   ]
  },
  {
   "cell_type": "code",
   "execution_count": null,
   "metadata": {},
   "outputs": [],
   "source": [
    "my_int - my_int"
   ]
  },
  {
   "cell_type": "markdown",
   "metadata": {},
   "source": [
    "Now, the universe is happy.\n",
    "\n",
    "Sometimes, though, you'll be getting a `TypeError` and not know why. What if you were using the right variables, but were still having problems? As you try to debug the problem, you might want to check the types of the variables you're working with to make sure that something weird isn't happening. You can always find out the type of an object by using the `type()` function."
   ]
  },
  {
   "cell_type": "code",
   "execution_count": null,
   "metadata": {},
   "outputs": [],
   "source": [
    "print(type(my_float))"
   ]
  },
  {
   "cell_type": "markdown",
   "metadata": {},
   "source": [
    "You can even change the types of objects (this is called *casting*) by using the appropriately named `int()`, `float()`, `str()`, and `bool()` functions. To illustrate:"
   ]
  },
  {
   "cell_type": "code",
   "execution_count": null,
   "metadata": {},
   "outputs": [],
   "source": [
    "my_var = True # Define my_var to be a bool\n",
    "print(\"my_var = \", my_var, \"\\ttype(my_var) = \", type(my_var)) # Print it out all fancy\n",
    "\n",
    "my_var = int(my_var) # Change my_var to be an int\n",
    "print(\"my_var = \", my_var, \"\\ttype(my_var) = \", type(my_var))\n",
    "\n",
    "my_var = str(my_var) # Change my_var to be a str\n",
    "print(\"my_var = \", my_var.__repr__(), \"\\ttype(my_var) = \", type(my_var))\n",
    "\n",
    "my_var = float(my_var) # Change my_var to be a float\n",
    "print(\"my_var = \", my_var, \"\\ttype(my_var) = \", type(my_var))\n",
    "\n",
    "my_var = bool(my_var) # Change my_var to be a bool. We've come full circle\n",
    "print(\"my_var = \", my_var, \"\\ttype(my_var) = \", type(my_var))"
   ]
  },
  {
   "cell_type": "markdown",
   "metadata": {},
   "source": [
    "Thankfully, we don't have to think about types as much in Python as we do in other programming languages because Python will usually handle it for us. Here's an example:"
   ]
  },
  {
   "cell_type": "code",
   "execution_count": null,
   "metadata": {},
   "outputs": [],
   "source": [
    "thing1 = 3\n",
    "thing2 = 4\n",
    "print(type(thing1))\n",
    "print(type(thing2))\n",
    "\n",
    "thing3 = thing1/thing2\n",
    "print(\"3/4 = \", thing3)\n",
    "\n",
    "print(\"type(thing3) = \", type(thing3))"
   ]
  },
  {
   "cell_type": "markdown",
   "metadata": {},
   "source": [
    "Without us ever having to think about what happened, Python converted types for us from `int` to `float` because it made sense to do so."
   ]
  },
  {
   "cell_type": "markdown",
   "metadata": {},
   "source": [
    "> **Warning: Although Python is usaually very good at converting types for us, sometimes it will make a mistake and not convert when it should. This is common when working with matrices. You might inadvertently create an integer matrix and then try to divide it by a number. The result is that all of the numbers will have the decimal part truncated. This can lead to some frustrating bugs to find.**"
   ]
  },
  {
   "cell_type": "markdown",
   "metadata": {},
   "source": [
    "> Tips:\n",
    "1. You might wonder why types are even a thing. The reason is that in order to optimize computations, your computer has hardware specifically designed to handle specific types of objects. When Python's `float` objects get too large, they will convert to either `NaN` (not a number) or `inf` (infinity), but the range of numbers that `float` can be is usually larger than anything that you will need to do. However, `int` objects can be as large as you want them to be, but the speed at which you work with `int` objects slows down significantly as the numbers get exceedingly large."
   ]
  },
  {
   "cell_type": "markdown",
   "metadata": {},
   "source": [
    "## Challenge"
   ]
  },
  {
   "cell_type": "markdown",
   "metadata": {},
   "source": [
    "1. Mess around with types and casting. What types can you add together? What types can you subtract, multiply, divide? What types are converted to what other types during operations? The answers may surprise you."
   ]
  },
  {
   "cell_type": "code",
   "execution_count": null,
   "metadata": {},
   "outputs": [],
   "source": [
    "# Practice yourself"
   ]
  },
  {
   "cell_type": "markdown",
   "metadata": {},
   "source": [
    "<a name=\"lists-and-objects\"></a>\n",
    "# Lists and Objects\n",
    "*Requires [Types](#types)*\n",
    "\n",
    "<sub><sup>Back to [Contents](#contents)</sup></sub>"
   ]
  },
  {
   "cell_type": "markdown",
   "metadata": {},
   "source": [
    "Besides the basic types described earlier, there are many more advanced objects that Python can create. In fact, in Python *everything* is an object. Objects can have more advanced types, like `array` (see the section on [Numpy](#numpy)), `dict` (A very useful object built in to Python that we won't cover, but you might want to check out for your own enjoyment), `HttpRequest` (Used for building websites with Python), and many, many more! While we will only focus on `list`s in this section, getting used to thinking in terms of objects will make it much easier to understand what is going on in code."
   ]
  },
  {
   "cell_type": "markdown",
   "metadata": {},
   "source": [
    "You can think of objects as virtual things that can do things. That description might not seem like it makes much sense, so let's look at an example."
   ]
  },
  {
   "cell_type": "markdown",
   "metadata": {},
   "source": [
    "Let's say that you were making a list of groceries. What kind of things can you do to a list of groceries?"
   ]
  },
  {
   "cell_type": "markdown",
   "metadata": {},
   "source": [
    "> Groceries (No malicious intent)\n",
    "> 1. Eggs\n",
    "2. Toilet Paper\n",
    "3. Spray Paint\n",
    "4. Jolly Ranchers\n",
    "5. Ski Mask"
   ]
  },
  {
   "cell_type": "markdown",
   "metadata": {},
   "source": [
    "A few things might come to mind. If something like a real life grocery list existed in Python:\n",
    "* You should be able to add new things to the list\n",
    "* You should be able to cross things off of the list\n",
    "* You should be able to replace something in the list with something else\n",
    "* Maybe a few more things..."
   ]
  },
  {
   "cell_type": "markdown",
   "metadata": {},
   "source": [
    "This is the essence of what objects in Python can do for us. They allow us to start thinking in terms of things that we work with every day. Consider a pencil object. If such a thing existed in Python, it should:\n",
    "* Be able to write\n",
    "* It should be able to erase something that it just wrote\n",
    "* Keep track of how sharp it is\n",
    "* When the pencil is no longer sharp, it should be able to be sharpened\n",
    "* Etc."
   ]
  },
  {
   "cell_type": "markdown",
   "metadata": {},
   "source": [
    "Unfortunately, a `Pencil` object doesn't (yet) exist in Python. After all, what good would a virtual pencil do? However, the beauty of Python is that if you wanted it to exist, you would be able to create it. This is called creating a `class` and while we won't cover how to define your own objects here, this is an important step in mastering any programming language. If you want to go further and learn how to do make interesting programs, you should take some time to learn how to work with `class`es.\n",
    "\n",
    "In this section, we will talk about how to *instantiate* pre-created classes, which are simply just more advanced `type`s, like a `list`. (While a `class` or `type` can be thought of an *idea* or a *blueprint* for how an object should work if it existed, when you *instantiate* an object, it is akin to summoning the object into existence. I.e. `int` is a type that defines how integers would work if they existed, while `5` is an `int` object, an instantiated `int`)"
   ]
  },
  {
   "cell_type": "markdown",
   "metadata": {},
   "source": [
    "<a name=\"functions\"></a>\n",
    "# Functions\n",
    "<sub><sup>Back to [Contents](#contents)</sup></sub>"
   ]
  },
  {
   "cell_type": "markdown",
   "metadata": {},
   "source": [
    "Coming soon..."
   ]
  },
  {
   "cell_type": "markdown",
   "metadata": {},
   "source": [
    "<a name=\"common-errors\"></a>\n",
    "# Common Errors\n",
    "<sub><sup>Back to [Contents](#contents)</sup></sub>"
   ]
  },
  {
   "cell_type": "markdown",
   "metadata": {},
   "source": [
    "Thankfully, we don't have many of these yet! These will be added as you come to our office hours and we work through them"
   ]
  }
 ],
 "metadata": {
  "kernelspec": {
   "display_name": "Python 3",
   "language": "python",
   "name": "python3"
  },
  "language_info": {
   "codemirror_mode": {
    "name": "ipython",
    "version": 3
   },
   "file_extension": ".py",
   "mimetype": "text/x-python",
   "name": "python",
   "nbconvert_exporter": "python",
   "pygments_lexer": "ipython3",
   "version": "3.9.1"
  }
 },
 "nbformat": 4,
 "nbformat_minor": 4
}
